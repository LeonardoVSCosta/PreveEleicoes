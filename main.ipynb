{
 "cells": [
  {
   "cell_type": "code",
   "execution_count": 193,
   "id": "80fcfc2b-e2ba-4596-9c39-641b92c083cf",
   "metadata": {},
   "outputs": [],
   "source": [
    "import pandas as pd\n",
    "import matplotlib.pyplot as plt\n",
    "import numpy as np\n",
    "from sklearn.linear_model import LogisticRegression"
   ]
  },
  {
   "cell_type": "code",
   "execution_count": 195,
   "id": "eafc9ffa-c86b-46ff-be30-ebe958dd5cc9",
   "metadata": {},
   "outputs": [],
   "source": [
    "dados = pd.read_csv(\"Eleicao.csv\", sep=\";\")\n",
    "#dados.shape\n",
    "#dados\n",
    "x=dados.iloc[:, 2].values\n",
    "x=x[:, np.newaxis]\n",
    "y=dados.iloc[:, 1].values"
   ]
  },
  {
   "cell_type": "code",
   "execution_count": 197,
   "id": "02a9bb2e-3003-4544-8ed3-6c9561833c84",
   "metadata": {
    "scrolled": true
   },
   "outputs": [
    {
     "data": {
      "text/plain": [
       "array([-4.60287217])"
      ]
     },
     "execution_count": 197,
     "metadata": {},
     "output_type": "execute_result"
    }
   ],
   "source": [
    "modelo=LogisticRegression()\n",
    "modelo.fit(x, y)\n",
    "modelo.coef_\n",
    "modelo.intercept_"
   ]
  },
  {
   "cell_type": "code",
   "execution_count": 199,
   "id": "c8785584-99ea-4ff0-83d6-221c4340737d",
   "metadata": {},
   "outputs": [
    {
     "data": {
      "text/plain": [
       "[<matplotlib.lines.Line2D at 0x1cab91d02c0>]"
      ]
     },
     "execution_count": 199,
     "metadata": {},
     "output_type": "execute_result"
    },
    {
     "data": {
      "image/png": "[encoded data removed]",
      "text/plain": [
       "<Figure size 640x480 with 1 Axes>"
      ]
     },
     "metadata": {},
     "output_type": "display_data"
    }
   ],
   "source": [
    "plt.scatter(x, y)\n",
    "x_teste=np.linspace(10, 3000, 100)\n",
    "def model(x):\n",
    "    return 1 / (1 + np.exp(-x))\n",
    "r=model(x_teste * modelo.coef_ + modelo.intercept_).ravel()\n",
    "plt.plot(x_teste, r, color=\"blue\")"
   ]
  },
  {
   "cell_type": "code",
   "execution_count": 201,
   "id": "f0c24d95-ff80-4944-95fc-e85c3e84348e",
   "metadata": {},
   "outputs": [
    {
     "data": {
      "text/plain": [
       "array([['Luana Cardoso', 200, 0],\n",
       "       ['Patricia Moreira', 900, 0],\n",
       "       ['Camila Costa', 1500, 1],\n",
       "       ['Aline Martins', 3000, 1],\n",
       "       ['Carolina Freitas', 10, 0],\n",
       "       ['Renata Mendes', 500, 0],\n",
       "       ['Fernanda Lima', 0, 0]], dtype=object)"
      ]
     },
     "execution_count": 201,
     "metadata": {},
     "output_type": "execute_result"
    }
   ],
   "source": [
    "dados_previsoes=pd.read_csv(\"NovosCandidatos.csv\", sep=\";\")\n",
    "despesas=dados_previsoes.iloc[:, 1].values\n",
    "despesas=despesas.reshape(-1, 1)\n",
    "previsoes_teste=modelo.predict(despesas)\n",
    "previsoes_teste\n",
    "dados_previsoes=np.column_stack((dados_previsoes, previsoes_teste))\n",
    "dados_previsoes"
   ]
  },
  {
   "cell_type": "code",
   "execution_count": null,
   "id": "98ddbd7a-c4b6-4d09-9077-af284714af0e",
   "metadata": {},
   "outputs": [],
   "source": []
  },
  {
   "cell_type": "code",
   "execution_count": null,
   "id": "8cc48784-0612-4d95-ab50-c1d28a1b9799",
   "metadata": {},
   "outputs": [],
   "source": []
  }
 ],
 "metadata": {
  "kernelspec": {
   "display_name": "Python 3 (ipykernel)",
   "language": "python",
   "name": "python3"
  },
  "language_info": {
   "codemirror_mode": {
    "name": "ipython",
    "version": 3
   },
   "file_extension": ".py",
   "mimetype": "text/x-python",
   "name": "python",
   "nbconvert_exporter": "python",
   "pygments_lexer": "ipython3",
   "version": "3.12.4"
  }
 },
 "nbformat": 4,
 "nbformat_minor": 5
}
